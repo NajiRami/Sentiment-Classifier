{
 "cells": [
  {
   "cell_type": "markdown",
   "metadata": {
    "id": "5bgPpghocFIa"
   },
   "source": [
    "# Emojify! \n",
    "\n",
    "Welcome to Build a Sentiment Recognition! we're going to use word vector representations to build an Emojifier. \n",
    "🤩 💫 🔥\n",
    "\n",
    "Have you ever wanted to make your text messages more expressive? Your emojifier app will help you do that. \n",
    "Rather than writing:\n",
    ">\"Congratulations on the promotion! Let's get coffee and talk. Love you!\"   \n",
    "\n",
    "The emojifier can automatically turn this into:\n",
    ">\"Congratulations on the promotion! 👍  Let's get coffee and talk. ☕️ Love you! ❤️\"\n",
    "\n",
    "we'll implement a model which inputs a sentence (such as \"Let's go see the baseball game tonight!\") and finds the most appropriate emoji to be used with this sentence (⚾️).\n",
    "\n",
    "### Using Word Vectors to Improve Emoji Lookups\n",
    "* In many emoji interfaces, you need to remember that ❤️  is the \"heart\" symbol rather than the \"love\" symbol. \n",
    "    * In other words, you'll have to remember to type \"heart\" to find the desired emoji, and typing \"love\" won't bring up that symbol.\n",
    "* You can make a more flexible emoji interface by using word vectors!\n",
    "* When using word vectors, you'll see that even if your training set explicitly relates only a few words to a particular emoji, your algorithm will be able to generalize and associate additional words in the test set to the same emoji.\n",
    "    * This works even if those additional words don't even appear in the training set. \n",
    "    * This allows you to build an accurate classifier mapping from sentences to emojis, even using a small training set. \n",
    "\n",
    "### What we'll build:\n",
    "1. In this notebook, you'll start with a baseline model (Emojifier-V1) using word embeddings.\n",
    "2. Then we will build a more sophisticated model (Emojifier-V2) that further incorporates an LSTM. \n",
    "\n",
    "By the end of this notebook, you'll be able to:\n",
    "\n",
    "* Create an embedding layer in Keras with pre-trained word vectors\n",
    "* Explain the advantages and disadvantages of the GloVe algorithm\n",
    "* Build a sentiment classifier using word embeddings\n",
    "* Build and train a more sophisticated classifier using an LSTM\n",
    "\n",
    "🏀 👑\n",
    "\n",
    "👆 😎\n",
    "\n",
    "(^^^ Emoji for \"skills\") \n",
    "\n"
   ]
  },
  {
   "cell_type": "markdown",
   "metadata": {
    "id": "HsztVBA8cFIg"
   },
   "source": [
    "<a name='0'></a>\n",
    "## Packages\n",
    "\n",
    "Let's get started! Run the following cell to load the packages you're going to use. "
   ]
  },
  {
   "cell_type": "code",
   "execution_count": 1,
   "metadata": {
    "id": "lMZ9xg8MFHZU"
   },
   "outputs": [
    {
     "name": "stdout",
     "output_type": "stream",
     "text": [
      "WARNING:tensorflow:From d:\\programing\\My python\\AI\\machine learning\\RNN_W2A2\\RNN_env\\Lib\\site-packages\\keras\\src\\losses.py:2976: The name tf.losses.sparse_softmax_cross_entropy is deprecated. Please use tf.compat.v1.losses.sparse_softmax_cross_entropy instead.\n",
      "\n"
     ]
    }
   ],
   "source": [
    "import numpy as np\n",
    "from emo_utils import *\n",
    "import emoji\n",
    "import tensorflow as tf\n",
    "import matplotlib.pyplot as plt\n",
    "\n",
    "%matplotlib inline"
   ]
  },
  {
   "cell_type": "markdown",
   "metadata": {
    "id": "Av0PwZYscFIh"
   },
   "source": [
    "<a name='1'></a>\n",
    "## 1 - Baseline Model: Emojifier-V1\n",
    "\n",
    "<a name='1-1'></a>\n",
    "### 1.1 - Dataset EMOJISET\n",
    "\n",
    "Let's start by building a simple baseline classifier. \n",
    "\n",
    "You have a tiny dataset (X, Y) where:\n",
    "- X contains 127 sentences (strings).\n",
    "- Y contains an integer label between 0 and 4 corresponding to an emoji for each sentence.\n",
    "\n",
    "<img src=\"images/data_set.png\" style=\"width:700px;height:300px;\">\n",
    "<caption><center><font color='purple'><b>Figure 1</b>: EMOJISET - a classification problem with 5 classes. A few examples of sentences are given here. </center></caption>\n",
    "\n",
    "Load the dataset using the code below. The dataset is split between training (127 examples) and testing (56 examples)."
   ]
  },
  {
   "cell_type": "code",
   "execution_count": 2,
   "metadata": {
    "executionInfo": {
     "elapsed": 2671,
     "status": "ok",
     "timestamp": 1611738624467,
     "user": {
      "displayName": "Mubsi K",
      "photoUrl": "https://lh3.googleusercontent.com/a-/AOh14Gip7OjOkdNkKxKDyWEQAq1o8ccGN_HrBTGdqjgQ=s64",
      "userId": "08094225471505108399"
     },
     "user_tz": -300
    },
    "id": "OvuoZ8pWcFIi"
   },
   "outputs": [],
   "source": [
    "X_train, Y_train = read_csv('data/train_emoji.csv')\n",
    "X_test, Y_test = read_csv('data/tesss.csv')"
   ]
  },
  {
   "cell_type": "markdown",
   "metadata": {},
   "source": [
    "In the below code cell, you will find out the sentence with the maximum number of words, and will store it's length in `maxLen` (*i.e., the number of words in the longest sentence, which will be used further*). Let's break down this code for a better understanding.\n",
    "\n",
    "- The first point to note here is that `split()` breaks a string into a list of it's words. So, if `x` is a string, then `len(x.split())` returns the number of words in that string. You can read more about `split` [here](https://docs.python.org/3/library/stdtypes.html?highlight=split#str.split).\n",
    "\n",
    "- The second point to note here is the way in which the `max` function has been used. As can be read [here](https://docs.python.org/3/library/functions.html#max), apart from an iterable (which in your case is `X_train`, a list of strings), this function also has a `key` argument, that can be used to modify the basis on which the largest element in the iterable is chosen.\n",
    "\n",
    "In this case, `key` has been chosen as the number of words in a string. So the `max` function will return the string with the largest number of words."
   ]
  },
  {
   "cell_type": "code",
   "execution_count": 3,
   "metadata": {
    "executionInfo": {
     "elapsed": 2046,
     "status": "ok",
     "timestamp": 1611738634135,
     "user": {
      "displayName": "Mubsi K",
      "photoUrl": "https://lh3.googleusercontent.com/a-/AOh14Gip7OjOkdNkKxKDyWEQAq1o8ccGN_HrBTGdqjgQ=s64",
      "userId": "08094225471505108399"
     },
     "user_tz": -300
    },
    "id": "DjAuDbxrcFIi"
   },
   "outputs": [
    {
     "name": "stdout",
     "output_type": "stream",
     "text": [
      "10\n"
     ]
    }
   ],
   "source": [
    "maxLen = len(max(X_train, key=lambda x: len(x.split())).split())\n",
    "print(maxLen)"
   ]
  },
  {
   "cell_type": "markdown",
   "metadata": {
    "id": "EpbQIx7dcFIi"
   },
   "source": [
    "Run the following cell to print sentences from X_train and corresponding labels from Y_train. \n",
    "* Change `idx` to see different examples. \n",
    "* Note that due to the font used by iPython notebook, the heart emoji may be colored black rather than red."
   ]
  },
  {
   "cell_type": "code",
   "execution_count": 4,
   "metadata": {
    "colab": {
     "base_uri": "https://localhost:8080/"
    },
    "executionInfo": {
     "elapsed": 2058,
     "status": "ok",
     "timestamp": 1611738637381,
     "user": {
      "displayName": "Mubsi K",
      "photoUrl": "https://lh3.googleusercontent.com/a-/AOh14Gip7OjOkdNkKxKDyWEQAq1o8ccGN_HrBTGdqjgQ=s64",
      "userId": "08094225471505108399"
     },
     "user_tz": -300
    },
    "id": "vE1Zd2SMcFIj",
    "outputId": "49f45ed1-8f2f-4ea8-da44-4acb41731287"
   },
   "outputs": [
    {
     "name": "stdout",
     "output_type": "stream",
     "text": [
      "never talk to me again 😞\n",
      "I am proud of your achievements 😄\n",
      "It is the worst day in my life 😞\n",
      "Miss you so much ❤️\n",
      "food is life 🍴\n",
      "I love you mum ❤️\n",
      "Stop saying bullshit 😞\n",
      "congratulations on your acceptance 😄\n",
      "The assignment is too long  😞\n",
      "I want to go play ⚾\n"
     ]
    }
   ],
   "source": [
    "for idx in range(10):\n",
    "    print(X_train[idx], label_to_emoji(Y_train[idx]))"
   ]
  },
  {
   "cell_type": "markdown",
   "metadata": {
    "id": "tS_N2pMpcFIk"
   },
   "source": [
    "<a name='1-2'></a>\n",
    "### 1.2 - Overview of the Emojifier-V1\n",
    "\n",
    "In this section, you'll implement a baseline model called \"Emojifier-v1\".  \n",
    "\n",
    "<center>\n",
    "<img src=\"images/image_1.png\" style=\"width:900px;height:300px;\">\n",
    "    <caption><center><font color='purple'><b>Figure 2</b>: Baseline model (Emojifier-V1).</center></caption>\n",
    "</center></font>\n",
    "\n",
    "\n",
    "#### Inputs and Outputs\n",
    "* The input of the model is a string corresponding to a sentence (e.g. \"I love you\"). \n",
    "* The output will be a probability vector of shape (1,5), (indicating that there are 5 emojis to choose from).\n",
    "* The (1,5) probability vector is passed to an argmax layer, which extracts the index of the emoji with the highest probability."
   ]
  },
  {
   "cell_type": "markdown",
   "metadata": {
    "id": "Y6nloeF5cFIl"
   },
   "source": [
    "#### One-hot Encoding\n",
    "* To get your labels into a format suitable for training a softmax classifier, convert $Y$ from its current shape  $(m, 1)$ into a \"one-hot representation\" $(m, 5)$, \n",
    "    * Each row is a one-hot vector giving the label of one example.\n",
    "    * Here, `Y_oh` stands for \"Y-one-hot\" in the variable names `Y_oh_train` and `Y_oh_test`: "
   ]
  },
  {
   "cell_type": "code",
   "execution_count": 5,
   "metadata": {
    "executionInfo": {
     "elapsed": 2619,
     "status": "ok",
     "timestamp": 1611738660835,
     "user": {
      "displayName": "Mubsi K",
      "photoUrl": "https://lh3.googleusercontent.com/a-/AOh14Gip7OjOkdNkKxKDyWEQAq1o8ccGN_HrBTGdqjgQ=s64",
      "userId": "08094225471505108399"
     },
     "user_tz": -300
    },
    "id": "RhRTRwVncFIm"
   },
   "outputs": [],
   "source": [
    "Y_oh_train = convert_to_one_hot(Y_train, C = 5)\n",
    "Y_oh_test = convert_to_one_hot(Y_test, C = 5)"
   ]
  },
  {
   "cell_type": "markdown",
   "metadata": {
    "id": "2w3GRkw2cFIo"
   },
   "source": [
    "Now, see what `convert_to_one_hot()` did. Feel free to change `index` to print out different values. "
   ]
  },
  {
   "cell_type": "code",
   "execution_count": 6,
   "metadata": {
    "colab": {
     "base_uri": "https://localhost:8080/"
    },
    "executionInfo": {
     "elapsed": 2838,
     "status": "ok",
     "timestamp": 1611738667164,
     "user": {
      "displayName": "Mubsi K",
      "photoUrl": "https://lh3.googleusercontent.com/a-/AOh14Gip7OjOkdNkKxKDyWEQAq1o8ccGN_HrBTGdqjgQ=s64",
      "userId": "08094225471505108399"
     },
     "user_tz": -300
    },
    "id": "GlHYeuBIcFIo",
    "outputId": "c2b73f6a-9a15-4728-a8b4-7ba38b5372ed"
   },
   "outputs": [
    {
     "name": "stdout",
     "output_type": "stream",
     "text": [
      "Sentence 'I missed you' has label index 0, which is emoji ❤️\n",
      "Label index 0 in one-hot encoding format is [1. 0. 0. 0. 0.]\n"
     ]
    }
   ],
   "source": [
    "idx = 50\n",
    "print(f\"Sentence '{X_train[idx]}' has label index {Y_train[idx]}, which is emoji {label_to_emoji(Y_train[idx])}\", )\n",
    "print(f\"Label index {Y_train[idx]} in one-hot encoding format is {Y_oh_train[idx]}\")"
   ]
  },
  {
   "cell_type": "markdown",
   "metadata": {
    "id": "gbFECkqAcFIp"
   },
   "source": [
    "All the data is now ready to be fed into the Emojify-V1 model. You're ready to implement the model!"
   ]
  },
  {
   "cell_type": "markdown",
   "metadata": {
    "id": "KI8mJoafcFIp"
   },
   "source": [
    "<a name='1-3'></a>\n",
    "### 1.3 - Implementing Emojifier-V1\n",
    "\n",
    "As shown in Figure 2 (above), the first step is to:\n",
    "* Convert each word in the input sentence into their word vector representations.\n",
    "* Take an average of the word vectors. \n",
    "\n",
    "Similar to this week's previous assignment, you'll use pre-trained 50-dimensional GloVe embeddings. \n",
    "\n",
    "Run the following cell to load the `word_to_vec_map`, which contains all the vector representations."
   ]
  },
  {
   "cell_type": "code",
   "execution_count": 7,
   "metadata": {
    "executionInfo": {
     "elapsed": 8474,
     "status": "ok",
     "timestamp": 1611738705912,
     "user": {
      "displayName": "Mubsi K",
      "photoUrl": "https://lh3.googleusercontent.com/a-/AOh14Gip7OjOkdNkKxKDyWEQAq1o8ccGN_HrBTGdqjgQ=s64",
      "userId": "08094225471505108399"
     },
     "user_tz": -300
    },
    "id": "QXI3avt7cFIq"
   },
   "outputs": [],
   "source": [
    "word_to_index, index_to_word, word_to_vec_map = read_glove_vecs('data/glove.6B.50d.txt')"
   ]
  },
  {
   "cell_type": "markdown",
   "metadata": {
    "id": "9JM-0zg6cFIr"
   },
   "source": [
    "You've loaded:\n",
    "- `word_to_index`: dictionary mapping from words to their indices in the vocabulary \n",
    "    - (400,001 words, with the valid indices ranging from 0 to 400,000)\n",
    "- `index_to_word`: dictionary mapping from indices to their corresponding words in the vocabulary\n",
    "- `word_to_vec_map`: dictionary mapping words to their GloVe vector representation.\n",
    "\n",
    "Run the following cell to check if it works:"
   ]
  },
  {
   "cell_type": "code",
   "execution_count": 8,
   "metadata": {
    "colab": {
     "base_uri": "https://localhost:8080/"
    },
    "executionInfo": {
     "elapsed": 1164,
     "status": "ok",
     "timestamp": 1611738710682,
     "user": {
      "displayName": "Mubsi K",
      "photoUrl": "https://lh3.googleusercontent.com/a-/AOh14Gip7OjOkdNkKxKDyWEQAq1o8ccGN_HrBTGdqjgQ=s64",
      "userId": "08094225471505108399"
     },
     "user_tz": -300
    },
    "id": "RB2ZN6ajcFIr",
    "outputId": "3c733016-edf8-417d-f589-828c2a9d8a09"
   },
   "outputs": [
    {
     "name": "stdout",
     "output_type": "stream",
     "text": [
      "the index of cucumber in the vocabulary is 113317\n",
      "the 400000th word in the vocabulary is ￥\n",
      "400000\n"
     ]
    }
   ],
   "source": [
    "word = \"cucumber\"\n",
    "idx = 400000\n",
    "print(\"the index of\", word, \"in the vocabulary is\", word_to_index[word])\n",
    "print(\"the\", str(idx) + \"th word in the vocabulary is\", index_to_word[idx])\n",
    "print (len(index_to_word))"
   ]
  },
  {
   "cell_type": "markdown",
   "metadata": {
    "id": "wg9QpkR5cFIs"
   },
   "source": [
    "<a name='ex-1'></a>\n",
    "### Function 1 - sentence_to_avg\n",
    "\n",
    "Implement `sentence_to_avg()` \n",
    "\n",
    "You'll need to carry out two steps:\n",
    "\n",
    "1. Convert every sentence to lower-case, then split the sentence into a list of words. \n",
    "    * `X.lower()` and `X.split()` might be useful. 😉\n",
    "2. For each word in the sentence, access its GloVe representation.\n",
    "    * Then take the average of all of these word vectors.\n",
    "    * You might use `numpy.zeros()`, which you can read more about [here]('https://numpy.org/doc/stable/reference/generated/numpy.zeros.html').\n",
    "    \n",
    "    \n"
   ]
  },
  {
   "cell_type": "code",
   "execution_count": 9,
   "metadata": {
    "executionInfo": {
     "elapsed": 1943,
     "status": "ok",
     "timestamp": 1611738728468,
     "user": {
      "displayName": "Mubsi K",
      "photoUrl": "https://lh3.googleusercontent.com/a-/AOh14Gip7OjOkdNkKxKDyWEQAq1o8ccGN_HrBTGdqjgQ=s64",
      "userId": "08094225471505108399"
     },
     "user_tz": -300
    },
    "id": "buYjsIBecFIs"
   },
   "outputs": [],
   "source": [
    "def sentence_to_avg(sentence, word_to_vec_map):\n",
    "    \"\"\"\n",
    "    Converts a sentence (string) into a list of words (strings). Extracts the GloVe representation of each word\n",
    "    and averages its value into a single vector encoding the meaning of the sentence.\n",
    "    \n",
    "    Arguments:\n",
    "    sentence -- string, one training example from X\n",
    "    word_to_vec_map -- dictionary mapping every word in a vocabulary into its 50-dimensional vector representation\n",
    "    \n",
    "    Returns:\n",
    "    avg -- average vector encoding information about the sentence, numpy-array of shape (J,), where J can be any number\n",
    "    \"\"\"\n",
    "    any_word = next(iter(word_to_vec_map.keys()))\n",
    "    \n",
    "    # Step 1: Split sentence into list of lower case words \n",
    "    words = sentence.lower().split()\n",
    "\n",
    "    # Initialize the average word vector, should have the same shape as your word vectors.\n",
    "    avg = np.zeros(word_to_vec_map[any_word].shape)\n",
    "    # Initialize count to 0\n",
    "    count = 0\n",
    "    \n",
    "    # Step 2: average the word vectors. You can loop over the words in the list \"words\".\n",
    "    for w in words:\n",
    "        # Check that word exists in word_to_vec_map\n",
    "        if w in word_to_vec_map:\n",
    "            avg += word_to_vec_map[w]\n",
    "            # Increment count\n",
    "            count +=1\n",
    "          \n",
    "    if count > 0:\n",
    "        # Get the average. But only if count > 0\n",
    "        avg = avg/count\n",
    "    \n",
    "    \n",
    "    return avg"
   ]
  },
  {
   "cell_type": "markdown",
   "metadata": {
    "id": "NPPv5gmucFIv"
   },
   "source": [
    "<a name='1-4'></a>\n",
    "### 1.4 - Implement the Model\n",
    "\n",
    "You now have all the pieces to finish implementing the `model()` function! \n",
    "After using `sentence_to_avg()` you need to:\n",
    "* Pass the average through forward propagation\n",
    "* Compute the cost\n",
    "* Backpropagate to update the softmax parameters\n",
    "\n",
    "<a name='ex-2'></a>\n",
    "### Function 2 - model\n",
    "\n",
    "Implement the `model()` function described in Figure (2). \n",
    "\n",
    "* The equations you need to implement in the forward pass and to compute the cross-entropy cost are below:\n",
    "* The variable $Y_{oh}$ (\"Y one hot\") is the one-hot encoding of the output labels. \n",
    "\n",
    "$$ z^{(i)} = Wavg^{(i)} + b$$\n",
    "\n",
    "$$ a^{(i)} = softmax(z^{(i)})$$\n",
    "\n",
    "$$ \\mathcal{L}^{(i)} = - \\sum_{k = 0}^{n_y - 1} Y_{oh,k}^{(i)} * log(a^{(i)}_k)$$\n",
    "\n",
    "**Note**: It is possible to come up with a more efficient vectorized implementation. We will not depends on this model just for understanding the algorithms\n",
    "\n",
    "The function `softmax()` is provided, and has already been imported."
   ]
  },
  {
   "cell_type": "code",
   "execution_count": 10,
   "metadata": {
    "executionInfo": {
     "elapsed": 2322,
     "status": "ok",
     "timestamp": 1611738741724,
     "user": {
      "displayName": "Mubsi K",
      "photoUrl": "https://lh3.googleusercontent.com/a-/AOh14Gip7OjOkdNkKxKDyWEQAq1o8ccGN_HrBTGdqjgQ=s64",
      "userId": "08094225471505108399"
     },
     "user_tz": -300
    },
    "id": "O_BzrO-TcFIv"
   },
   "outputs": [],
   "source": [
    "#Here you can take a look of How to implement a model without any Machine learning framework.\n",
    "#We will not use this model\n",
    "def model(X, Y, word_to_vec_map, learning_rate = 0.01, num_iterations = 400):\n",
    "    \"\"\"\n",
    "    Model to train word vector representations in numpy.\n",
    "    \n",
    "    Arguments:\n",
    "    X -- input data, numpy array of sentences as strings, of shape (m,)\n",
    "    Y -- labels, numpy array of integers between 0 and 7, numpy-array of shape (m, 1)\n",
    "    word_to_vec_map -- dictionary mapping every word in a vocabulary into its 50-dimensional vector representation\n",
    "    learning_rate -- learning_rate for the stochastic gradient descent algorithm\n",
    "    num_iterations -- number of iterations\n",
    "    \n",
    "    Returns:\n",
    "    pred -- vector of predictions, numpy-array of shape (m, 1)\n",
    "    W -- weight matrix of the softmax layer, of shape (n_y, n_h)\n",
    "    b -- bias of the softmax layer, of shape (n_y,)\n",
    "    \"\"\"\n",
    "    \n",
    "    # Get a valid word contained in the word_to_vec_map \n",
    "    any_word = next(iter(word_to_vec_map.keys()))\n",
    "        \n",
    "    # Define number of training examples\n",
    "    m = Y.shape[0]                             # number of training examples\n",
    "    n_y = len(np.unique(Y))                    # number of classes  \n",
    "    n_h = word_to_vec_map[any_word].shape[0]   # dimensions of the GloVe vectors \n",
    "    \n",
    "    # Initialize parameters using Xavier initialization\n",
    "    W = np.random.randn(n_y, n_h) / np.sqrt(n_h)\n",
    "    b = np.zeros((n_y,))\n",
    "    \n",
    "    # Convert Y to Y_onehot with n_y classes\n",
    "    Y_oh = convert_to_one_hot(Y, C = n_y) \n",
    "    \n",
    "    # Optimization loop\n",
    "    for t in range(num_iterations): # Loop over the number of iterations\n",
    "        \n",
    "        cost = 0\n",
    "        dW = 0\n",
    "        db = 0\n",
    "        \n",
    "        for i in range(m):          # Loop over the training examples\n",
    "            \n",
    "            # Average the word vectors of the words from the i'th training example\n",
    "            # Use 'sentence_to_avg' you implemented above for this  \n",
    "            avg = sentence_to_avg(X[i],word_to_vec_map)\n",
    "\n",
    "            # Forward propagate the avg through the softmax layer. \n",
    "            z = np.dot(W,avg)+b\n",
    "            a = softmax(z)\n",
    "\n",
    "            # Add the cost using the i'th training label's one hot representation and \"A\" (the output of the softmax)\n",
    "            cost += np.sum(Y_oh * a)\n",
    "            \n",
    "            # Compute gradients \n",
    "            dz = a - Y_oh[i]\n",
    "            dW += np.dot(dz.reshape(n_y,1), avg.reshape(1, n_h))\n",
    "            db += dz\n",
    "\n",
    "            # Update parameters with Stochastic Gradient Descent\n",
    "            W = W - learning_rate * dW\n",
    "            b = b - learning_rate * db\n",
    "            \n",
    "        assert type(cost) == np.float64, \"Incorrect implementation of cost\"\n",
    "        assert cost.shape == (), \"Incorrect implementation of cost\"\n",
    "        \n",
    "        if t % 100 == 0:\n",
    "            print(\"Epoch: \" + str(t) + \" --- cost = \" + str(cost))\n",
    "            pred = predict(X, Y, W, b, word_to_vec_map) #predict is defined in emo_utils.py\n",
    "\n",
    "    return pred, W, b"
   ]
  },
  {
   "cell_type": "markdown",
   "metadata": {
    "id": "KvdG05pgcFIw"
   },
   "source": [
    "Run the next cell to train your model and learn the softmax parameters (W, b)."
   ]
  },
  {
   "cell_type": "code",
   "execution_count": 11,
   "metadata": {
    "colab": {
     "base_uri": "https://localhost:8080/"
    },
    "executionInfo": {
     "elapsed": 3817,
     "status": "ok",
     "timestamp": 1611738757775,
     "user": {
      "displayName": "Mubsi K",
      "photoUrl": "https://lh3.googleusercontent.com/a-/AOh14Gip7OjOkdNkKxKDyWEQAq1o8ccGN_HrBTGdqjgQ=s64",
      "userId": "08094225471505108399"
     },
     "user_tz": -300
    },
    "id": "umWTqRcpcFIw",
    "outputId": "7b74cb94-e98c-4936-98bc-693a3bb5f34e",
    "scrolled": true
   },
   "outputs": [
    {
     "name": "stdout",
     "output_type": "stream",
     "text": [
      "Epoch: 0 --- cost = 3917.6152222703085\n",
      "Accuracy: 0.5454545454545454\n",
      "Epoch: 100 --- cost = 4052.372705415947\n",
      "Accuracy: 0.696969696969697\n",
      "Epoch: 200 --- cost = 3873.664723226608\n",
      "Accuracy: 1.0\n",
      "Epoch: 300 --- cost = 3873.661827265548\n",
      "Accuracy: 1.0\n"
     ]
    }
   ],
   "source": [
    "np.random.seed(1)\n",
    "pred, W, b = model(X_train, Y_train, word_to_vec_map)\n",
    "# print(pred)"
   ]
  },
  {
   "cell_type": "markdown",
   "metadata": {
    "id": "ygumNDIUcFIx"
   },
   "source": [
    "Great! Now see how it does on the test set:"
   ]
  },
  {
   "cell_type": "markdown",
   "metadata": {
    "id": "O862gcUicFIx"
   },
   "source": [
    "<a name='1-5'></a>\n",
    "### 1.5 - Examining Test Set Performance \n",
    "\n",
    "Note that the `predict` function used here is defined in `emo_util.py`."
   ]
  },
  {
   "cell_type": "code",
   "execution_count": 12,
   "metadata": {
    "colab": {
     "base_uri": "https://localhost:8080/"
    },
    "executionInfo": {
     "elapsed": 3704,
     "status": "ok",
     "timestamp": 1611738776291,
     "user": {
      "displayName": "Mubsi K",
      "photoUrl": "https://lh3.googleusercontent.com/a-/AOh14Gip7OjOkdNkKxKDyWEQAq1o8ccGN_HrBTGdqjgQ=s64",
      "userId": "08094225471505108399"
     },
     "user_tz": -300
    },
    "id": "yhb6CzhrcFIx",
    "outputId": "08d07fd0-55c2-4eff-d570-2562deb0570b",
    "scrolled": false
   },
   "outputs": [
    {
     "name": "stdout",
     "output_type": "stream",
     "text": [
      "Training set:\n",
      "Accuracy: 1.0\n",
      "Test set:\n",
      "Accuracy: 0.8392857142857143\n"
     ]
    }
   ],
   "source": [
    "print(\"Training set:\")\n",
    "pred_train = predict(X_train, Y_train, W, b, word_to_vec_map)\n",
    "print('Test set:')\n",
    "pred_test = predict(X_test, Y_test, W, b, word_to_vec_map)"
   ]
  },
  {
   "cell_type": "markdown",
   "metadata": {
    "id": "hwmrm-aDcFIy"
   },
   "source": [
    "**Note**:\n",
    "* Random guessing would have had 20% accuracy, given that there are 5 classes. (1/5 = 20%).\n",
    "* This is pretty good performance after training on only 127 examples. \n",
    "\n",
    "\n",
    "#### The Model Matches Emojis to Relevant Words\n",
    "In the training set, the algorithm saw the sentence \n",
    ">\"I love you.\" \n",
    "\n",
    "with the label ❤️. \n",
    "* You can check that the word \"treasure\" does not appear in the training set. \n",
    "* Nonetheless, let's see what happens if you write \"I treasure you.\""
   ]
  },
  {
   "cell_type": "code",
   "execution_count": 13,
   "metadata": {
    "colab": {
     "base_uri": "https://localhost:8080/"
    },
    "executionInfo": {
     "elapsed": 1909,
     "status": "ok",
     "timestamp": 1611738785398,
     "user": {
      "displayName": "Mubsi K",
      "photoUrl": "https://lh3.googleusercontent.com/a-/AOh14Gip7OjOkdNkKxKDyWEQAq1o8ccGN_HrBTGdqjgQ=s64",
      "userId": "08094225471505108399"
     },
     "user_tz": -300
    },
    "id": "tvCl7fUvcFIz",
    "outputId": "a3913da3-85df-466d-dd8f-520245d495fc"
   },
   "outputs": [
    {
     "name": "stdout",
     "output_type": "stream",
     "text": [
      "Accuracy: 0.0\n",
      "\n",
      "I play football ⚾\n"
     ]
    }
   ],
   "source": [
    "X_my_sentences = np.array([\"I play football\"])\n",
    "Y_my_labels = np.array([[0]])\n",
    "pred = predict(X_my_sentences, Y_my_labels , W, b, word_to_vec_map)\n",
    "print_predictions(X_my_sentences, pred)"
   ]
  },
  {
   "cell_type": "markdown",
   "metadata": {
    "id": "ZyC-BGqKcFI0"
   },
   "source": [
    "Amazing! \n",
    "* Because *treasure* has a similar embedding as *love*, the algorithm has generalized correctly even to a word it has never seen before. \n",
    "* Words such as *heart*, *dear*, *beloved* or *adore* have embedding vectors similar to *love*. \n",
    "    * Feel free to modify the inputs above and try out a variety of input sentences. \n",
    "    * How well does it work?\n",
    "\n",
    "#### Word Ordering isn't Considered in this Model\n",
    "* Note that the model doesn't get the following sentence correct:\n",
    ">\"today is not good\" \n",
    "\n",
    "* This algorithm ignores word ordering, so is not good at understanding phrases like \"not good.\" \n",
    "\n",
    "#### Confusion Matrix\n",
    "* Printing the confusion matrix can also help understand which classes are more difficult for your model. \n",
    "* A confusion matrix shows how often an example whose label is one class (\"actual\" class) is mislabeled by the algorithm with a different class (\"predicted\" class).\n",
    "\n",
    "Print the confusion matrix below:"
   ]
  },
  {
   "cell_type": "code",
   "execution_count": 14,
   "metadata": {
    "colab": {
     "base_uri": "https://localhost:8080/",
     "height": 433
    },
    "executionInfo": {
     "elapsed": 2061,
     "status": "ok",
     "timestamp": 1611738816883,
     "user": {
      "displayName": "Mubsi K",
      "photoUrl": "https://lh3.googleusercontent.com/a-/AOh14Gip7OjOkdNkKxKDyWEQAq1o8ccGN_HrBTGdqjgQ=s64",
      "userId": "08094225471505108399"
     },
     "user_tz": -300
    },
    "id": "Ab9aH9IQcFI1",
    "outputId": "d8cfc4cc-bbdc-487b-8efc-3d9a3cdbdd06"
   },
   "outputs": [
    {
     "name": "stdout",
     "output_type": "stream",
     "text": [
      "(56,)\n",
      "           ❤️   ⚾   😄   😞  🍴\n",
      "Predicted  0.0  1.0  2.0  3.0  4.0  All\n",
      "Actual                                 \n",
      "0            5    1    0    1    0    7\n",
      "1            0    8    0    0    0    8\n",
      "2            2    0   16    0    0   18\n",
      "3            2    1    2   11    0   16\n",
      "4            0    0    0    0    7    7\n",
      "All          9   10   18   12    7   56\n"
     ]
    },
    {
     "data": {
      "image/png": "[encoded data removed]",
      "text/plain": [
       "<Figure size 480x480 with 2 Axes>"
      ]
     },
     "metadata": {},
     "output_type": "display_data"
    }
   ],
   "source": [
    "# START SKIP FOR GRADING\n",
    "print(Y_test.shape)\n",
    "print('           '+ label_to_emoji(0)+ '   ' + label_to_emoji(1) + '   ' +  label_to_emoji(2)+ '   ' + label_to_emoji(3)+'  ' + label_to_emoji(4))\n",
    "print(pd.crosstab(Y_test, pred_test.reshape(56,), rownames=['Actual'], colnames=['Predicted'], margins=True))\n",
    "plot_confusion_matrix(Y_test, pred_test)\n",
    "# END SKIP FOR GRADING"
   ]
  },
  {
   "cell_type": "markdown",
   "metadata": {
    "id": "Zm2o8SQIcFI1"
   },
   "source": [
    "<font color='blue'><b>What you should remember:</b>\n",
    "- Even with a mere 127 training examples, you can get a reasonably good model for Emojifying. \n",
    "    - This is due to the generalization power word vectors gives you. \n",
    "- Emojify-V1 will perform poorly on sentences such as *\"This movie is not good and not enjoyable\"* \n",
    "    - It doesn't understand combinations of words.\n",
    "    - It just averages all the words' embedding vectors together, without considering the ordering of words. \n",
    "</font>\n",
    "    \n",
    "**Not to worry! We will build a better algorithm in the next section!**"
   ]
  },
  {
   "cell_type": "markdown",
   "metadata": {
    "id": "BEeTqpjlcFI2"
   },
   "source": [
    "<a name='2'></a>\n",
    "## 2 - Emojifier-V2: Using LSTMs in Keras \n",
    "\n",
    "We're going to build an LSTM model that takes word **sequences** as input! This model will be able to account for word ordering. \n",
    "\n",
    "Emojifier-V2 will continue to use pre-trained word embeddings to represent words. You'll feed word embeddings into an LSTM, and the LSTM will learn to predict the most appropriate emoji. "
   ]
  },
  {
   "cell_type": "markdown",
   "metadata": {
    "id": "CPIihtFVFEbz"
   },
   "source": [
    "### Packages\n",
    "\n",
    "Run the following cell to load the Keras packages you'll need:"
   ]
  },
  {
   "cell_type": "code",
   "execution_count": 15,
   "metadata": {
    "executionInfo": {
     "elapsed": 2501,
     "status": "ok",
     "timestamp": 1611738953388,
     "user": {
      "displayName": "Mubsi K",
      "photoUrl": "https://lh3.googleusercontent.com/a-/AOh14Gip7OjOkdNkKxKDyWEQAq1o8ccGN_HrBTGdqjgQ=s64",
      "userId": "08094225471505108399"
     },
     "user_tz": -300
    },
    "id": "uZ-fy9fYcFI3"
   },
   "outputs": [],
   "source": [
    "import numpy as np\n",
    "import tensorflow\n",
    "np.random.seed(0)\n",
    "from tensorflow.keras.models import Model\n",
    "from tensorflow.keras.layers import Dense, Input, Dropout, LSTM, Activation\n",
    "from tensorflow.keras.layers import Embedding\n",
    "from tensorflow.keras.preprocessing import sequence\n",
    "from tensorflow.keras.initializers import glorot_uniform\n",
    "np.random.seed(1)"
   ]
  },
  {
   "cell_type": "markdown",
   "metadata": {
    "id": "P7LJvriXcFI3"
   },
   "source": [
    "<a name='2-1'></a>\n",
    "### 2.1 - Model Overview\n",
    "\n",
    "Here is the Emojifier-v2 you will implement:\n",
    "\n",
    "<img src=\"images/emojifier-v2.png\" style=\"width:700px;height:400px;\"> <br>\n",
    "<caption><center><font color='purple'><b>Figure 3</b>: Emojifier-V2. A 2-layer LSTM sequence classifier. </center></caption>"
   ]
  },
  {
   "cell_type": "markdown",
   "metadata": {
    "id": "-3W3WTbpcFI3"
   },
   "source": [
    "<a name='2-2'></a>\n",
    "### 2.2 Keras and Mini-batching \n",
    "\n",
    "In this exercise, you want to train Keras using mini-batches. However, most deep learning frameworks require that all sequences in the same mini-batch have the **same length**. \n",
    "\n",
    "This is what allows vectorization to work: If you had a 3-word sentence and a 4-word sentence, then the computations needed for them are different (one takes 3 steps of an LSTM, one takes 4 steps) so it's just not possible to do them both at the same time.\n",
    "    \n",
    "#### Padding Handles Sequences of Varying Length\n",
    "* The common solution to handling sequences of **different length** is to use padding.  Specifically:\n",
    "    * Set a maximum sequence length\n",
    "    * Pad all sequences to have the same length. \n",
    "    \n",
    "#### Example of Padding:\n",
    "* Given a maximum sequence length of 20, you could pad every sentence with \"0\"s so that each input sentence is of length 20. \n",
    "* Thus, the sentence \"I love you\" would be represented as $(e_{I}, e_{love}, e_{you}, \\vec{0}, \\vec{0}, \\ldots, \\vec{0})$. \n",
    "* In this example, any sentences longer than 20 words would have to be truncated. \n",
    "* One way to choose the maximum sequence length is to just pick the length of the longest sentence in the training set. "
   ]
  },
  {
   "cell_type": "markdown",
   "metadata": {
    "id": "QuwbNWS0cFI4"
   },
   "source": [
    "<a name='2-3'></a>\n",
    "### 2.3 - The Embedding Layer\n",
    "\n",
    "In Keras, the embedding matrix is represented as a \"layer.\"\n",
    "\n",
    "* The embedding matrix maps word indices to embedding vectors.\n",
    "    * The word indices are positive integers.\n",
    "    * The embedding vectors are dense vectors of fixed size.\n",
    "    * A \"dense\" vector is the opposite of a sparse vector. It means that most of its values are non-zero.  As a counter-example, a one-hot encoded vector is not \"dense.\"\n",
    "* The embedding matrix can be derived in two ways:\n",
    "    * Training a model to derive the embeddings from scratch. \n",
    "    * Using a pretrained embedding.\n",
    "    \n",
    "#### Using and Updating Pre-trained Embeddings\n",
    "In this section, we'll create an [Embedding()](https://www.tensorflow.org/api_docs/python/tf/keras/layers/Embedding) layer in Keras\n",
    "\n",
    "* We will initialize the Embedding layer with GloVe 50-dimensional vectors. \n",
    "* In the code below, you'll observe how Keras allows you to either train or leave this layer fixed.  \n",
    "    * Because your training set is quite small, you'll leave the GloVe embeddings fixed instead of updating them."
   ]
  },
  {
   "cell_type": "markdown",
   "metadata": {
    "id": "zhyVzuThcFI4"
   },
   "source": [
    "#### Inputs and Outputs to the Embedding Layer\n",
    "\n",
    "* The `Embedding()` layer's input is an integer matrix of size **(batch size, max input length)**. \n",
    "    * This input corresponds to sentences converted into lists of indices (integers).\n",
    "    * The largest integer (the highest word index) in the input should be no larger than the vocabulary size.\n",
    "* The embedding layer outputs an array of shape (batch size, max input length, dimension of word vectors).\n",
    "\n",
    "* The figure shows the propagation of two example sentences through the embedding layer. \n",
    "    * Both examples have been zero-padded to a length of `max_len=5`.\n",
    "    * The word embeddings are 50 units in length.\n",
    "    * The final dimension of the representation is  `(2,max_len,50)`. \n",
    "\n",
    "<img src=\"images/embedding1.png\" style=\"width:700px;height:250px;\">\n",
    "<caption><center><font color='purple'><b>Figure 4</b>: Embedding layer</center></caption>"
   ]
  },
  {
   "cell_type": "markdown",
   "metadata": {
    "id": "KnoTtNWBcFI5"
   },
   "source": [
    "#### Prepare the Input Sentences\n",
    "\n",
    "<a name='ex-3'></a>\n",
    "### Function 3 - sentences_to_indices\n",
    "\n",
    "Implement `sentences_to_indices`\n",
    "\n",
    "This function processes an array of sentences X and returns inputs to the embedding layer:\n",
    "\n",
    "* Convert each of the training sentences into a list of indices (the indices correspond to each word in the sentence)\n",
    "* Zero-pad all these lists so that their length is the length of the longest sentence.\n",
    "    \n"
   ]
  },
  {
   "cell_type": "code",
   "execution_count": 16,
   "metadata": {
    "colab": {
     "base_uri": "https://localhost:8080/"
    },
    "executionInfo": {
     "elapsed": 2291,
     "status": "ok",
     "timestamp": 1611738965576,
     "user": {
      "displayName": "Mubsi K",
      "photoUrl": "https://lh3.googleusercontent.com/a-/AOh14Gip7OjOkdNkKxKDyWEQAq1o8ccGN_HrBTGdqjgQ=s64",
      "userId": "08094225471505108399"
     },
     "user_tz": -300
    },
    "id": "8cMm64iWcFI5",
    "outputId": "f82cb8b2-991c-44ae-9c81-7a5235edeea2"
   },
   "outputs": [
    {
     "name": "stdout",
     "output_type": "stream",
     "text": [
      "0 I\n",
      "1 like\n",
      "2 learning\n"
     ]
    }
   ],
   "source": [
    "for idx, val in enumerate([\"I\", \"like\", \"learning\"]):\n",
    "    print(idx, val)\n",
    "    "
   ]
  },
  {
   "cell_type": "code",
   "execution_count": 17,
   "metadata": {
    "executionInfo": {
     "elapsed": 2881,
     "status": "ok",
     "timestamp": 1611738972334,
     "user": {
      "displayName": "Mubsi K",
      "photoUrl": "https://lh3.googleusercontent.com/a-/AOh14Gip7OjOkdNkKxKDyWEQAq1o8ccGN_HrBTGdqjgQ=s64",
      "userId": "08094225471505108399"
     },
     "user_tz": -300
    },
    "id": "Z0SixlIwcFI5"
   },
   "outputs": [],
   "source": [
    "def sentences_to_indices(X, word_to_index, max_len):\n",
    "    \"\"\"\n",
    "    Converts an array of sentences (strings) into an array of indices corresponding to words in the sentences.\n",
    "    The output shape should be such that it can be given to `Embedding()` (described in Figure 4). \n",
    "    \n",
    "    Arguments:\n",
    "    X -- array of sentences (strings), of shape (m,)\n",
    "    word_to_index -- a dictionary containing the each word mapped to its index\n",
    "    max_len -- maximum number of words in a sentence. You can assume every sentence in X is no longer than this. \n",
    "    \n",
    "    Returns:\n",
    "    X_indices -- array of indices corresponding to words in the sentences from X, of shape (m, max_len)\n",
    "    \"\"\"\n",
    "    \n",
    "    m = X.shape[0]                                   # number of training examples\n",
    "    \n",
    "    # Initialize X_indices as a numpy matrix of zeros and the correct shape \n",
    "    X_indices = np.zeros((m,max_len))\n",
    "    \n",
    "    for i in range(m):                               # loop over training examples\n",
    "        \n",
    "        # Convert the ith training sentence to lower case and split it into words. You should get a list of words.\n",
    "        sentence_words = X[i].lower().split()\n",
    "        \n",
    "        # Initialize j to 0\n",
    "        j = 0\n",
    "        \n",
    "        # Loop over the words of sentence_words\n",
    "\n",
    "        for w in sentence_words:\n",
    "            # if w exists in the word_to_index dictionary\n",
    "            if w in word_to_index:\n",
    "                # Set the (i,j)th entry of X_indices to the index of the correct word.\n",
    "                X_indices[i, j] = word_to_index[w]\n",
    "                # Increment j to j + 1\n",
    "                j +=  1\n",
    "            \n",
    "    \n",
    "    return X_indices"
   ]
  },
  {
   "cell_type": "markdown",
   "metadata": {
    "id": "reyHmseecFI6"
   },
   "source": [
    "Run the following cell to check what `sentences_to_indices()` does, and take a look at your results."
   ]
  },
  {
   "cell_type": "code",
   "execution_count": 18,
   "metadata": {
    "colab": {
     "base_uri": "https://localhost:8080/"
    },
    "executionInfo": {
     "elapsed": 1992,
     "status": "ok",
     "timestamp": 1611738982161,
     "user": {
      "displayName": "Mubsi K",
      "photoUrl": "https://lh3.googleusercontent.com/a-/AOh14Gip7OjOkdNkKxKDyWEQAq1o8ccGN_HrBTGdqjgQ=s64",
      "userId": "08094225471505108399"
     },
     "user_tz": -300
    },
    "id": "oBL1PMOCcFI6",
    "outputId": "6781359c-bafd-4ab5-a477-f8a5a86ea219"
   },
   "outputs": [
    {
     "name": "stdout",
     "output_type": "stream",
     "text": [
      "X1 = ['funny lol' 'lets play baseball' 'food is ready for you']\n",
      "X1_indices =\n",
      " [[155345. 225122.      0.      0.      0.]\n",
      " [220930. 286375.  69714.      0.      0.]\n",
      " [151204. 192973. 302254. 151349. 394475.]]\n"
     ]
    }
   ],
   "source": [
    "X1 = np.array([\"funny lol\", \"lets play baseball\", \"food is ready for you\"])\n",
    "X1_indices = sentences_to_indices(X1, word_to_index, max_len=5)\n",
    "print(\"X1 =\", X1)\n",
    "print(\"X1_indices =\\n\", X1_indices)"
   ]
  },
  {
   "cell_type": "markdown",
   "metadata": {
    "id": "0OJPAEM5cFI6"
   },
   "source": [
    "#### Build Embedding Layer\n",
    "\n",
    "Now we'll build the `Embedding()` layer in Keras, using pre-trained word vectors. \n",
    "\n",
    "* The embedding layer takes as input a list of word indices.\n",
    "    * `sentences_to_indices()` creates these word indices.\n",
    "* The embedding layer will return the word embeddings for a sentence. \n",
    "\n",
    "<a name='ex-4'></a>\n",
    "### Function 4 - pretrained_embedding_layer\n",
    "\n",
    "Implement `pretrained_embedding_layer()` with these steps:\n",
    "\n",
    "1. Initialize the embedding matrix as a numpy array of zeros.\n",
    "    * The embedding matrix has a row for each unique word in the vocabulary.\n",
    "        * There is one additional row to handle \"unknown\" words.\n",
    "        * So vocab_size is the number of unique words plus one.\n",
    "    * Each row will store the vector representation of one word. \n",
    "        * For example, one row may be 50 positions long if using GloVe word vectors.\n",
    "    * In the code below, `emb_dim` represents the length of a word embedding.\n",
    "2. Fill in each row of the embedding matrix with the vector representation of a word\n",
    "    * Each word in `word_to_index` is a string.\n",
    "    * word_to_vec_map is a dictionary where the keys are strings and the values are the word vectors.\n",
    "3. Define the Keras embedding layer. \n",
    "    * Use [Embedding()](https://www.tensorflow.org/api_docs/python/tf/keras/layers/Embedding). \n",
    "    * The input dimension is equal to the vocabulary length (number of unique words plus one).\n",
    "    * The output dimension is equal to the number of positions in a word embedding.\n",
    "    * Make this layer's embeddings fixed.\n",
    "        * If We were to set `trainable = True`, then it will allow the optimization algorithm to modify the values of the word embeddings.\n",
    "        * In this case, We don't want the model to modify the word embeddings.\n",
    "4. Set the embedding weights to be equal to the embedding matrix.\n"
   ]
  },
  {
   "cell_type": "code",
   "execution_count": 19,
   "metadata": {
    "executionInfo": {
     "elapsed": 2160,
     "status": "ok",
     "timestamp": 1611738992486,
     "user": {
      "displayName": "Mubsi K",
      "photoUrl": "https://lh3.googleusercontent.com/a-/AOh14Gip7OjOkdNkKxKDyWEQAq1o8ccGN_HrBTGdqjgQ=s64",
      "userId": "08094225471505108399"
     },
     "user_tz": -300
    },
    "id": "XBlEpiVkcFI7"
   },
   "outputs": [],
   "source": [
    "def pretrained_embedding_layer(word_to_vec_map, word_to_index):\n",
    "    \"\"\"\n",
    "    Creates a Keras Embedding() layer and loads in pre-trained GloVe 50-dimensional vectors.\n",
    "    \n",
    "    Arguments:\n",
    "    word_to_vec_map -- dictionary mapping words to their GloVe vector representation.\n",
    "    word_to_index -- dictionary mapping from words to their indices in the vocabulary (400,001 words)\n",
    "\n",
    "    Returns:\n",
    "    embedding_layer -- pretrained layer Keras instance\n",
    "    \"\"\"\n",
    "    \n",
    "    vocab_size = len(word_to_index) + 1              # adding 1 to fit Keras embedding (requirement)\n",
    "    any_word = next(iter(word_to_vec_map.keys()))\n",
    "    emb_dim = word_to_vec_map[any_word].shape[0]    # define dimensionality of your GloVe word vectors (= 50)\n",
    "      \n",
    "    # Step 1\n",
    "    # Initialize the embedding matrix as a numpy array of zeros.\n",
    "    # See instructions above to choose the correct shape.\n",
    "    emb_matrix = np.zeros((vocab_size,emb_dim))\n",
    "    \n",
    "    # Step 2\n",
    "    # Set each row \"idx\" of the embedding matrix to be \n",
    "    # the word vector representation of the idx'th word of the vocabulary\n",
    "    for word, idx in word_to_index.items():\n",
    "        emb_matrix[idx, :] = word_to_vec_map[word]\n",
    "\n",
    "    # Step 3\n",
    "    # Define Keras embedding layer with the correct input and output sizes\n",
    "    # Make it non-trainable.\n",
    "    embedding_layer = Embedding(vocab_size,emb_dim,trainable= False)\n",
    "    ### END CODE HERE ###\n",
    "\n",
    "    # Step 4 (already done for you; please do not modify)\n",
    "    # Build the embedding layer, it is required before setting the weights of the embedding layer. \n",
    "    embedding_layer.build((None,)) # Do not modify the \"None\".  This line of code is complete as-is.\n",
    "    \n",
    "    # Set the weights of the embedding layer to the embedding matrix. Your layer is now pretrained.\n",
    "    embedding_layer.set_weights([emb_matrix])\n",
    "    \n",
    "    return embedding_layer"
   ]
  },
  {
   "cell_type": "code",
   "execution_count": 20,
   "metadata": {
    "colab": {
     "base_uri": "https://localhost:8080/"
    },
    "executionInfo": {
     "elapsed": 6068,
     "status": "ok",
     "timestamp": 1611739002394,
     "user": {
      "displayName": "Mubsi K",
      "photoUrl": "https://lh3.googleusercontent.com/a-/AOh14Gip7OjOkdNkKxKDyWEQAq1o8ccGN_HrBTGdqjgQ=s64",
      "userId": "08094225471505108399"
     },
     "user_tz": -300
    },
    "id": "Gn4iGb0AcFI7",
    "outputId": "5bab44b5-bf23-4c6e-f891-429e8be34981"
   },
   "outputs": [
    {
     "name": "stdout",
     "output_type": "stream",
     "text": [
      "WARNING:tensorflow:From d:\\programing\\My python\\AI\\machine learning\\RNN_W2A2\\RNN_env\\Lib\\site-packages\\keras\\src\\backend.py:873: The name tf.get_default_graph is deprecated. Please use tf.compat.v1.get_default_graph instead.\n",
      "\n",
      "weights[0][1][1] = 0.39031\n",
      "Input_dim 400001\n",
      "Output_dim 50\n"
     ]
    }
   ],
   "source": [
    "embedding_layer = pretrained_embedding_layer(word_to_vec_map, word_to_index)\n",
    "print(\"weights[0][1][1] =\", embedding_layer.get_weights()[0][1][1])\n",
    "print(\"Input_dim\", embedding_layer.input_dim)\n",
    "print(\"Output_dim\",embedding_layer.output_dim)"
   ]
  },
  {
   "cell_type": "markdown",
   "metadata": {
    "id": "uEsWnZ_2cFI7"
   },
   "source": [
    "<a name='2-4'></a>\n",
    "### 2.4 - Building the Emojifier-V2\n",
    "\n",
    "Now you're ready to build the Emojifier-V2 model, in which you feed the embedding layer's output to an LSTM network!\n",
    "\n",
    "<img src=\"images/emojifier-v2.png\" style=\"width:700px;height:400px;\"> <br>\n",
    "<caption><center><font color='purple'><b>Figure 3</b>: Emojifier-v2. A 2-layer LSTM sequence classifier. </center></caption></font> \n",
    "\n",
    "\n",
    "<a name='ex-5'></a>\n",
    "### Function 5 - Emojify_V2\n",
    "\n",
    "Implement `Emojify_V2()`\n",
    "\n",
    "This function builds a Keras graph of the architecture shown in Figure (3). \n",
    "\n",
    "* The model takes as input an array of sentences of shape (`m`, `max_len`, ) defined by `input_shape`. \n",
    "* The model outputs a softmax probability vector of shape (`m`, `C = 5`). \n",
    "\n",
    "* You may need to use the following Keras layers:\n",
    "    * [Input()](https://www.tensorflow.org/api_docs/python/tf/keras/Input)\n",
    "        * Set the `shape` and `dtype` parameters.\n",
    "        * The inputs are integers, so you can specify the data type as a string, 'int32'.\n",
    "    * [LSTM()](https://www.tensorflow.org/api_docs/python/tf/keras/layers/LSTM)\n",
    "        * Set the `units` and `return_sequences` parameters.\n",
    "    * [Dropout()](https://www.tensorflow.org/api_docs/python/tf/keras/layers/Dropout)\n",
    "        * Set the `rate` parameter.\n",
    "    * [Dense()](https://www.tensorflow.org/api_docs/python/tf/keras/layers/Dense)\n",
    "        * Set the `units`, \n",
    "        * Note that `Dense()` has an `activation` parameter. But we'll use a sprate activation layer.\n",
    "    * [Activation()](https://www.tensorflow.org/api_docs/python/tf/keras/layers/Activation)\n",
    "        * You can pass in the activation of Softmax.\n",
    "    * [Model()](https://www.tensorflow.org/api_docs/python/tf/keras/Model)\n",
    "        * Set `inputs` and `outputs`.\n",
    "\n",
    "\n"
   ]
  },
  {
   "cell_type": "code",
   "execution_count": 21,
   "metadata": {
    "executionInfo": {
     "elapsed": 3214,
     "status": "ok",
     "timestamp": 1611739012958,
     "user": {
      "displayName": "Mubsi K",
      "photoUrl": "https://lh3.googleusercontent.com/a-/AOh14Gip7OjOkdNkKxKDyWEQAq1o8ccGN_HrBTGdqjgQ=s64",
      "userId": "08094225471505108399"
     },
     "user_tz": -300
    },
    "id": "Pb2ugsSUcFI7"
   },
   "outputs": [],
   "source": [
    "def Emojify_V2(input_shape, word_to_vec_map, word_to_index):\n",
    "    \"\"\"\n",
    "    Function creating the Emojify-v2 model's graph.\n",
    "    \n",
    "    Arguments:\n",
    "    input_shape -- shape of the input, usually (max_len,)\n",
    "    word_to_vec_map -- dictionary mapping every word in a vocabulary into its 50-dimensional vector representation\n",
    "    word_to_index -- dictionary mapping from words to their indices in the vocabulary (400,001 words)\n",
    "\n",
    "    Returns:\n",
    "    model -- a model instance in Keras\n",
    "    \"\"\"\n",
    "    \n",
    "    # Define sentence_indices as the input of the graph.\n",
    "    # It should be of shape input_shape and dtype 'int32' (as it contains indices, which are integers).\n",
    "    sentence_indices = Input(shape=input_shape,dtype= \"int32\")\n",
    "    \n",
    "    # Create the embedding layer pretrained with GloVe Vectors\n",
    "    embedding_layer = pretrained_embedding_layer(word_to_vec_map, word_to_index)\n",
    "    \n",
    "    # Propagate sentence_indices through your embedding layer\n",
    "    embeddings = embedding_layer(sentence_indices)   \n",
    "    \n",
    "    # Propagate the embeddings through an LSTM layer with 128-dimensional hidden state\n",
    "    # The returned output should be a batch of sequences.\n",
    "    X = LSTM(128,return_sequences= True)(embeddings)\n",
    "    # Add dropout with a probability of 0.5\n",
    "    X = Dropout(0.5)(X) \n",
    "    # Propagate X trough another LSTM layer with 128-dimensional hidden state\n",
    "    # The returned output should be a single hidden state, not a batch of sequences.\n",
    "    X = LSTM(128,return_sequences= False)(X)\n",
    "    # Add dropout with a probability of 0.5\n",
    "    X = Dropout(0.5)(X)  \n",
    "    # Propagate X through a Dense layer with 5 units\n",
    "    X = Dense(5)(X)\n",
    "    # Add a softmax activation\n",
    "    X = Activation(\"softmax\")(X)\n",
    "    \n",
    "    # Create Model instance which converts sentence_indices into X.\n",
    "    model = Model(inputs=sentence_indices,outputs = X)\n",
    "    \n",
    "    \n",
    "    return model"
   ]
  },
  {
   "cell_type": "markdown",
   "metadata": {
    "id": "-VamRAKtcFI8"
   },
   "source": [
    "Run the following cell to create your model and check its summary. \n",
    "\n",
    "* Because all sentences in the dataset are less than 10 words, `max_len = 10` was chosen.  \n",
    "* You should see that your architecture uses 20,223,927 parameters, of which 20,000,050 (the word embeddings) are non-trainable, with the remaining 223,877 being trainable. \n",
    "* Because your vocabulary size has 400,001 words (with valid indices from 0 to 400,000) there are 400,001\\*50 = 20,000,050 non-trainable parameters. "
   ]
  },
  {
   "cell_type": "code",
   "execution_count": 22,
   "metadata": {
    "colab": {
     "base_uri": "https://localhost:8080/"
    },
    "executionInfo": {
     "elapsed": 3127,
     "status": "ok",
     "timestamp": 1611739019596,
     "user": {
      "displayName": "Mubsi K",
      "photoUrl": "https://lh3.googleusercontent.com/a-/AOh14Gip7OjOkdNkKxKDyWEQAq1o8ccGN_HrBTGdqjgQ=s64",
      "userId": "08094225471505108399"
     },
     "user_tz": -300
    },
    "id": "8fLhXJ9ucFI8",
    "outputId": "02d98359-a43b-4780-bb17-3d36e060aa86",
    "scrolled": false
   },
   "outputs": [
    {
     "name": "stdout",
     "output_type": "stream",
     "text": [
      "Model: \"model\"\n",
      "_________________________________________________________________\n",
      " Layer (type)                Output Shape              Param #   \n",
      "=================================================================\n",
      " input_1 (InputLayer)        [(None, 10)]              0         \n",
      "                                                                 \n",
      " embedding_1 (Embedding)     (None, 10, 50)            20000050  \n",
      "                                                                 \n",
      " lstm (LSTM)                 (None, 10, 128)           91648     \n",
      "                                                                 \n",
      " dropout (Dropout)           (None, 10, 128)           0         \n",
      "                                                                 \n",
      " lstm_1 (LSTM)               (None, 128)               131584    \n",
      "                                                                 \n",
      " dropout_1 (Dropout)         (None, 128)               0         \n",
      "                                                                 \n",
      " dense (Dense)               (None, 5)                 645       \n",
      "                                                                 \n",
      " activation (Activation)     (None, 5)                 0         \n",
      "                                                                 \n",
      "=================================================================\n",
      "Total params: 20223927 (77.15 MB)\n",
      "Trainable params: 223877 (874.52 KB)\n",
      "Non-trainable params: 20000050 (76.29 MB)\n",
      "_________________________________________________________________\n"
     ]
    }
   ],
   "source": [
    "model = Emojify_V2((maxLen,), word_to_vec_map, word_to_index)\n",
    "model.summary()"
   ]
  },
  {
   "cell_type": "markdown",
   "metadata": {
    "id": "mKIsZqqicFI8"
   },
   "source": [
    "#### Compile the Model \n",
    "\n",
    "As usual, after creating your model in Keras, you need to compile it and define what loss, optimizer and metrics you want to use. Compile your model using `categorical_crossentropy` loss, `adam` optimizer and `['accuracy']` metrics:"
   ]
  },
  {
   "cell_type": "code",
   "execution_count": 23,
   "metadata": {
    "executionInfo": {
     "elapsed": 2041,
     "status": "ok",
     "timestamp": 1611739024847,
     "user": {
      "displayName": "Mubsi K",
      "photoUrl": "https://lh3.googleusercontent.com/a-/AOh14Gip7OjOkdNkKxKDyWEQAq1o8ccGN_HrBTGdqjgQ=s64",
      "userId": "08094225471505108399"
     },
     "user_tz": -300
    },
    "id": "aMf79f45cFI9"
   },
   "outputs": [
    {
     "name": "stdout",
     "output_type": "stream",
     "text": [
      "WARNING:tensorflow:From d:\\programing\\My python\\AI\\machine learning\\RNN_W2A2\\RNN_env\\Lib\\site-packages\\keras\\src\\optimizers\\__init__.py:309: The name tf.train.Optimizer is deprecated. Please use tf.compat.v1.train.Optimizer instead.\n",
      "\n"
     ]
    }
   ],
   "source": [
    "model.compile(loss='categorical_crossentropy', optimizer='adam', metrics=['accuracy'])"
   ]
  },
  {
   "cell_type": "markdown",
   "metadata": {
    "id": "mX6NORy7cFI9"
   },
   "source": [
    "<a name='2-5'></a>\n",
    "### 2.5 - Train the Model \n",
    "\n",
    "It's time to train your model! Your Emojifier-V2 `model` takes as input an array of shape (`m`, `max_len`) and outputs probability vectors of shape (`m`, `number of classes`). Thus, you have to convert X_train (array of sentences as strings) to X_train_indices (array of sentences as list of word indices), and Y_train (labels as indices) to Y_train_oh (labels as one-hot vectors)."
   ]
  },
  {
   "cell_type": "code",
   "execution_count": 24,
   "metadata": {
    "executionInfo": {
     "elapsed": 2284,
     "status": "ok",
     "timestamp": 1611739029525,
     "user": {
      "displayName": "Mubsi K",
      "photoUrl": "https://lh3.googleusercontent.com/a-/AOh14Gip7OjOkdNkKxKDyWEQAq1o8ccGN_HrBTGdqjgQ=s64",
      "userId": "08094225471505108399"
     },
     "user_tz": -300
    },
    "id": "UgsBnWQqcFI-"
   },
   "outputs": [],
   "source": [
    "X_train_indices = sentences_to_indices(X_train, word_to_index, maxLen)\n",
    "Y_train_oh = convert_to_one_hot(Y_train, C = 5)"
   ]
  },
  {
   "cell_type": "markdown",
   "metadata": {
    "id": "9fMyo0vqcFI_"
   },
   "source": [
    "Fit the Keras model on `X_train_indices` and `Y_train_oh`, using `epochs = 50` and `batch_size = 32`."
   ]
  },
  {
   "cell_type": "code",
   "execution_count": 25,
   "metadata": {
    "id": "LtFpvyJicFI_",
    "scrolled": true
   },
   "outputs": [
    {
     "name": "stdout",
     "output_type": "stream",
     "text": [
      "Epoch 1/50\n",
      "WARNING:tensorflow:From d:\\programing\\My python\\AI\\machine learning\\RNN_W2A2\\RNN_env\\Lib\\site-packages\\keras\\src\\utils\\tf_utils.py:492: The name tf.ragged.RaggedTensorValue is deprecated. Please use tf.compat.v1.ragged.RaggedTensorValue instead.\n",
      "\n",
      "WARNING:tensorflow:From d:\\programing\\My python\\AI\\machine learning\\RNN_W2A2\\RNN_env\\Lib\\site-packages\\keras\\src\\engine\\base_layer_utils.py:384: The name tf.executing_eagerly_outside_functions is deprecated. Please use tf.compat.v1.executing_eagerly_outside_functions instead.\n",
      "\n",
      "5/5 [==============================] - 4s 22ms/step - loss: 1.5769 - accuracy: 0.2955\n",
      "Epoch 2/50\n",
      "5/5 [==============================] - 0s 17ms/step - loss: 1.4795 - accuracy: 0.3409\n",
      "Epoch 3/50\n",
      "5/5 [==============================] - 0s 18ms/step - loss: 1.4214 - accuracy: 0.4242\n",
      "Epoch 4/50\n",
      "5/5 [==============================] - 0s 19ms/step - loss: 1.3317 - accuracy: 0.4621\n",
      "Epoch 5/50\n",
      "5/5 [==============================] - 0s 19ms/step - loss: 1.2103 - accuracy: 0.5682\n",
      "Epoch 6/50\n",
      "5/5 [==============================] - 0s 20ms/step - loss: 1.0623 - accuracy: 0.6212\n",
      "Epoch 7/50\n",
      "5/5 [==============================] - 0s 15ms/step - loss: 1.0742 - accuracy: 0.5606\n",
      "Epoch 8/50\n",
      "5/5 [==============================] - 0s 17ms/step - loss: 0.9369 - accuracy: 0.6288\n",
      "Epoch 9/50\n",
      "5/5 [==============================] - 0s 17ms/step - loss: 0.8573 - accuracy: 0.6667\n",
      "Epoch 10/50\n",
      "5/5 [==============================] - 0s 17ms/step - loss: 0.7736 - accuracy: 0.7045\n",
      "Epoch 11/50\n",
      "5/5 [==============================] - 0s 19ms/step - loss: 0.7346 - accuracy: 0.7273\n",
      "Epoch 12/50\n",
      "5/5 [==============================] - 0s 13ms/step - loss: 0.5990 - accuracy: 0.7955\n",
      "Epoch 13/50\n",
      "5/5 [==============================] - 0s 15ms/step - loss: 0.5979 - accuracy: 0.7727\n",
      "Epoch 14/50\n",
      "5/5 [==============================] - 0s 18ms/step - loss: 0.5664 - accuracy: 0.8258\n",
      "Epoch 15/50\n",
      "5/5 [==============================] - 0s 16ms/step - loss: 0.5221 - accuracy: 0.8030\n",
      "Epoch 16/50\n",
      "5/5 [==============================] - 0s 12ms/step - loss: 0.4674 - accuracy: 0.8561\n",
      "Epoch 17/50\n",
      "5/5 [==============================] - 0s 14ms/step - loss: 0.4396 - accuracy: 0.8561\n",
      "Epoch 18/50\n",
      "5/5 [==============================] - 0s 17ms/step - loss: 0.4217 - accuracy: 0.8712\n",
      "Epoch 19/50\n",
      "5/5 [==============================] - 0s 17ms/step - loss: 0.5593 - accuracy: 0.7955\n",
      "Epoch 20/50\n",
      "5/5 [==============================] - 0s 12ms/step - loss: 0.4905 - accuracy: 0.8258\n",
      "Epoch 21/50\n",
      "5/5 [==============================] - 0s 11ms/step - loss: 0.3218 - accuracy: 0.9091\n",
      "Epoch 22/50\n",
      "5/5 [==============================] - 0s 14ms/step - loss: 0.3372 - accuracy: 0.8788\n",
      "Epoch 23/50\n",
      "5/5 [==============================] - 0s 13ms/step - loss: 0.3164 - accuracy: 0.8864\n",
      "Epoch 24/50\n",
      "5/5 [==============================] - 0s 12ms/step - loss: 0.2742 - accuracy: 0.9167\n",
      "Epoch 25/50\n",
      "5/5 [==============================] - 0s 14ms/step - loss: 0.2032 - accuracy: 0.9394\n",
      "Epoch 26/50\n",
      "5/5 [==============================] - 0s 14ms/step - loss: 0.1733 - accuracy: 0.9470\n",
      "Epoch 27/50\n",
      "5/5 [==============================] - 0s 15ms/step - loss: 0.1545 - accuracy: 0.9470\n",
      "Epoch 28/50\n",
      "5/5 [==============================] - 0s 14ms/step - loss: 0.1131 - accuracy: 0.9773\n",
      "Epoch 29/50\n",
      "5/5 [==============================] - 0s 14ms/step - loss: 0.0913 - accuracy: 0.9848\n",
      "Epoch 30/50\n",
      "5/5 [==============================] - 0s 14ms/step - loss: 0.1032 - accuracy: 0.9697\n",
      "Epoch 31/50\n",
      "5/5 [==============================] - 0s 15ms/step - loss: 0.0716 - accuracy: 0.9848\n",
      "Epoch 32/50\n",
      "5/5 [==============================] - 0s 12ms/step - loss: 0.0570 - accuracy: 0.9848\n",
      "Epoch 33/50\n",
      "5/5 [==============================] - 0s 10ms/step - loss: 0.0614 - accuracy: 0.9848\n",
      "Epoch 34/50\n",
      "5/5 [==============================] - 0s 11ms/step - loss: 0.0791 - accuracy: 0.9697\n",
      "Epoch 35/50\n",
      "5/5 [==============================] - 0s 17ms/step - loss: 0.6284 - accuracy: 0.8485\n",
      "Epoch 36/50\n",
      "5/5 [==============================] - 0s 14ms/step - loss: 0.3572 - accuracy: 0.8864\n",
      "Epoch 37/50\n",
      "5/5 [==============================] - 0s 13ms/step - loss: 0.2795 - accuracy: 0.8788\n",
      "Epoch 38/50\n",
      "5/5 [==============================] - 0s 13ms/step - loss: 0.1985 - accuracy: 0.9394\n",
      "Epoch 39/50\n",
      "5/5 [==============================] - 0s 14ms/step - loss: 0.1365 - accuracy: 0.9621\n",
      "Epoch 40/50\n",
      "5/5 [==============================] - 0s 14ms/step - loss: 0.1442 - accuracy: 0.9621\n",
      "Epoch 41/50\n",
      "5/5 [==============================] - 0s 13ms/step - loss: 0.1469 - accuracy: 0.9470\n",
      "Epoch 42/50\n",
      "5/5 [==============================] - 0s 13ms/step - loss: 0.1011 - accuracy: 0.9697\n",
      "Epoch 43/50\n",
      "5/5 [==============================] - 0s 14ms/step - loss: 0.1074 - accuracy: 0.9697\n",
      "Epoch 44/50\n",
      "5/5 [==============================] - 0s 15ms/step - loss: 0.0949 - accuracy: 0.9773\n",
      "Epoch 45/50\n",
      "5/5 [==============================] - 0s 12ms/step - loss: 0.0648 - accuracy: 0.9848\n",
      "Epoch 46/50\n",
      "5/5 [==============================] - 0s 17ms/step - loss: 0.0468 - accuracy: 0.9848\n",
      "Epoch 47/50\n",
      "5/5 [==============================] - 0s 16ms/step - loss: 0.0504 - accuracy: 0.9848\n",
      "Epoch 48/50\n",
      "5/5 [==============================] - 0s 16ms/step - loss: 0.0444 - accuracy: 0.9924\n",
      "Epoch 49/50\n",
      "5/5 [==============================] - 0s 16ms/step - loss: 0.0338 - accuracy: 0.9924\n",
      "Epoch 50/50\n",
      "5/5 [==============================] - 0s 18ms/step - loss: 0.0485 - accuracy: 0.9848\n"
     ]
    },
    {
     "data": {
      "text/plain": [
       "<keras.src.callbacks.History at 0x235862d6050>"
      ]
     },
     "execution_count": 25,
     "metadata": {},
     "output_type": "execute_result"
    }
   ],
   "source": [
    "model.fit(X_train_indices, Y_train_oh, epochs = 50, batch_size = 32, shuffle=True)"
   ]
  },
  {
   "cell_type": "markdown",
   "metadata": {
    "id": "gR2QJZAkcFJA"
   },
   "source": [
    "Your model should have between **90% and 100% accuracy** on the training set. Exact model accuracy may vary! \n",
    "\n",
    "Run the following cell to evaluate your model on the test set: "
   ]
  },
  {
   "cell_type": "code",
   "execution_count": 26,
   "metadata": {
    "colab": {
     "base_uri": "https://localhost:8080/"
    },
    "executionInfo": {
     "elapsed": 2962,
     "status": "ok",
     "timestamp": 1611739058762,
     "user": {
      "displayName": "Mubsi K",
      "photoUrl": "https://lh3.googleusercontent.com/a-/AOh14Gip7OjOkdNkKxKDyWEQAq1o8ccGN_HrBTGdqjgQ=s64",
      "userId": "08094225471505108399"
     },
     "user_tz": -300
    },
    "id": "sIbcdVibcFJA",
    "outputId": "65b06e6c-415e-4038-c6fd-3839b3fd39f1",
    "scrolled": true
   },
   "outputs": [
    {
     "name": "stdout",
     "output_type": "stream",
     "text": [
      "2/2 [==============================] - 1s 0s/step - loss: 0.6540 - accuracy: 0.8036\n",
      "\n",
      "Test accuracy =  0.8035714030265808\n"
     ]
    }
   ],
   "source": [
    "X_test_indices = sentences_to_indices(X_test, word_to_index, max_len = maxLen)\n",
    "Y_test_oh = convert_to_one_hot(Y_test, C = 5)\n",
    "loss, acc = model.evaluate(X_test_indices, Y_test_oh)\n",
    "print()\n",
    "print(\"Test accuracy = \", acc)"
   ]
  },
  {
   "cell_type": "markdown",
   "metadata": {
    "id": "2d6y4sJbcFJA"
   },
   "source": [
    "We should get a test accuracy between 80% and 95%. Run the cell below to see the mislabelled examples: "
   ]
  },
  {
   "cell_type": "code",
   "execution_count": 27,
   "metadata": {
    "colab": {
     "base_uri": "https://localhost:8080/"
    },
    "executionInfo": {
     "elapsed": 1779,
     "status": "ok",
     "timestamp": 1611739122633,
     "user": {
      "displayName": "Mubsi K",
      "photoUrl": "https://lh3.googleusercontent.com/a-/AOh14Gip7OjOkdNkKxKDyWEQAq1o8ccGN_HrBTGdqjgQ=s64",
      "userId": "08094225471505108399"
     },
     "user_tz": -300
    },
    "id": "mjMyEGmYcFJC",
    "outputId": "0e87d217-d501-40d1-a6c7-71d567643d52"
   },
   "outputs": [
    {
     "name": "stdout",
     "output_type": "stream",
     "text": [
      "2/2 [==============================] - 1s 10ms/step\n",
      "Expected emoji:😄 prediction: he got a very nice raise\t❤️\n",
      "Expected emoji:😞 prediction: work is hard\t😄\n",
      "Expected emoji:😞 prediction: This girl is messing with me\t❤️\n",
      "Expected emoji:😞 prediction: work is horrible\t😄\n",
      "Expected emoji:🍴 prediction: any suggestions for dinner\t😄\n",
      "Expected emoji:😄 prediction: you brighten my day\t😞\n",
      "Expected emoji:😞 prediction: she is a bully\t😄\n",
      "Expected emoji:😞 prediction: My life is so boring\t❤️\n",
      "Expected emoji:😞 prediction: I do not want to joke\t❤️\n",
      "Expected emoji:😞 prediction: go away\t⚾\n",
      "Expected emoji:😞 prediction: yesterday we lost again\t⚾\n"
     ]
    }
   ],
   "source": [
    "# This code allows you to see the mislabelled examples\n",
    "C = 5\n",
    "y_test_oh = np.eye(C)[Y_test.reshape(-1)]\n",
    "X_test_indices = sentences_to_indices(X_test, word_to_index, maxLen)\n",
    "pred = model.predict(X_test_indices)\n",
    "for i in range(len(X_test)):\n",
    "    x = X_test_indices\n",
    "    num = np.argmax(pred[i])\n",
    "    if(num != Y_test[i]):\n",
    "        print('Expected emoji:'+ label_to_emoji(Y_test[i]) + ' prediction: '+ X_test[i] + label_to_emoji(num).strip())"
   ]
  },
  {
   "cell_type": "markdown",
   "metadata": {
    "id": "UGg00oBRcFJD"
   },
   "source": [
    "Now you can try it on your own example! Write your own sentence below:"
   ]
  },
  {
   "cell_type": "code",
   "execution_count": 28,
   "metadata": {
    "colab": {
     "base_uri": "https://localhost:8080/"
    },
    "executionInfo": {
     "elapsed": 1780,
     "status": "ok",
     "timestamp": 1611739204630,
     "user": {
      "displayName": "Mubsi K",
      "photoUrl": "https://lh3.googleusercontent.com/a-/AOh14Gip7OjOkdNkKxKDyWEQAq1o8ccGN_HrBTGdqjgQ=s64",
      "userId": "08094225471505108399"
     },
     "user_tz": -300
    },
    "id": "wEgCsIE7cFJE",
    "outputId": "28d6942b-ad6b-461e-9904-191430145d85"
   },
   "outputs": [
    {
     "name": "stdout",
     "output_type": "stream",
     "text": [
      "1/1 [==============================] - 0s 32ms/step\n",
      "i can't 😞\n"
     ]
    }
   ],
   "source": [
    "# Change the sentence below to see your prediction. Make sure all the words are in the Glove embeddings.  \n",
    "x_test = np.array([\"i can't\"])\n",
    "X_test_indices = sentences_to_indices(x_test, word_to_index, maxLen)\n",
    "print(x_test[0] +' '+  label_to_emoji(np.argmax(model.predict(X_test_indices))))"
   ]
  },
  {
   "cell_type": "code",
   "execution_count": 32,
   "metadata": {},
   "outputs": [
    {
     "name": "stdout",
     "output_type": "stream",
     "text": [
      "1/1 [==============================] - 0s 16ms/step\n",
      "I'm angry 😞\n"
     ]
    }
   ],
   "source": [
    "x_test = np.array([\"I'm angry\"])\n",
    "X_test_indices = sentences_to_indices(x_test, word_to_index, maxLen)\n",
    "print(x_test[0] +' '+  label_to_emoji(np.argmax(model.predict(X_test_indices))))"
   ]
  },
  {
   "cell_type": "markdown",
   "metadata": {
    "id": "tT53ibgFcFJE"
   },
   "source": [
    "#### LSTM Version Accounts for Word Order\n",
    "* The Emojify-V1 model did not predict \"not feeling happy\" correctly, but your implementation of Emojify-V2 got it right! \n",
    "    * If it didn't, be aware that Keras' outputs are slightly random each time, so this is probably why. \n",
    "* The current model still isn't very robust at understanding negation (such as \"not happy\")\n",
    "    * This is because the training set is small and doesn't have a lot of examples of negation. \n",
    "    * If the training set were larger, the LSTM model would be much better than the Emojify-V1 model at understanding more complex sentences. "
   ]
  },
  {
   "cell_type": "markdown",
   "metadata": {
    "id": "0ysWCkrcFEb7"
   },
   "source": [
    "### Congratulations!\n",
    " \n",
    "We've completed this notebook, and harnessed the power of LSTMs to make your words more emotive! ❤️❤️❤️\n",
    "\n",
    "By now, you've: \n",
    "\n",
    "* Created an embedding matrix\n",
    "* Observed how negative sampling learns word vectors more efficiently than other methods\n",
    "* Experienced the advantages and disadvantages of the GloVe algorithm\n",
    "* And built a sentiment classifier using word embeddings! \n",
    "\n",
    "Cool! (or Emojified: 😎😎😎 ) "
   ]
  }
 ],
 "metadata": {
  "accelerator": "GPU",
  "colab": {
   "collapsed_sections": [
    "zhyVzuThcFI4",
    "LUSzrFkYcFJF"
   ],
   "name": "Solution_Emojify_v2a.ipynb",
   "provenance": []
  },
  "coursera": {
   "schema_names": [
    "DLSC5W2-A2"
   ]
  },
  "kernelspec": {
   "display_name": "RNN_env",
   "language": "python",
   "name": "python3"
  },
  "language_info": {
   "codemirror_mode": {
    "name": "ipython",
    "version": 3
   },
   "file_extension": ".py",
   "mimetype": "text/x-python",
   "name": "python",
   "nbconvert_exporter": "python",
   "pygments_lexer": "ipython3",
   "version": "3.11.1"
  }
 },
 "nbformat": 4,
 "nbformat_minor": 1
}
